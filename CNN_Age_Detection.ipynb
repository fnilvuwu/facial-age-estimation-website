{
  "nbformat": 4,
  "nbformat_minor": 0,
  "metadata": {
    "colab": {
      "provenance": [],
      "gpuType": "T4",
      "authorship_tag": "ABX9TyNPO1vV2QlNdH18NRh0jdip",
      "include_colab_link": true
    },
    "kernelspec": {
      "name": "python3",
      "display_name": "Python 3"
    },
    "language_info": {
      "name": "python"
    },
    "accelerator": "GPU"
  },
  "cells": [
    {
      "cell_type": "markdown",
      "metadata": {
        "id": "view-in-github",
        "colab_type": "text"
      },
      "source": [
        "<a href=\"https://colab.research.google.com/github/fnilvuwu/facial-age-estimation-website/blob/main/CNN_Age_Detection.ipynb\" target=\"_parent\"><img src=\"https://colab.research.google.com/assets/colab-badge.svg\" alt=\"Open In Colab\"/></a>"
      ]
    },
    {
      "cell_type": "code",
      "execution_count": null,
      "metadata": {
        "id": "cRFpxXk3Cq0F"
      },
      "outputs": [],
      "source": [
        "import pandas as pd\n",
        "import seaborn as sns\n",
        "import matplotlib.pyplot as plt\n",
        "from tensorflow.keras.preprocessing.image import ImageDataGenerator\n",
        "from tensorflow.keras.models import Sequential\n",
        "from tensorflow.keras.callbacks import ModelCheckpoint\n",
        "from google.colab.patches import cv2_imshow\n",
        "from tensorflow.keras import Model\n",
        "from tensorflow.keras.optimizers import Adam\n",
        "import numpy as np\n",
        "import cv2\n",
        "import os\n",
        "import tensorflow as tf\n",
        "from tensorflow.keras.layers import Input, Dense, Flatten, Dropout, Conv2D, MaxPooling2D, Reshape, LSTM, Concatenate, TimeDistributed\n",
        "from tensorflow.keras.models import Model\n",
        "from tensorflow.keras.utils import to_categorical\n",
        "from tensorflow.keras.applications import VGG19"
      ]
    },
    {
      "cell_type": "code",
      "source": [
        "from google.colab import drive\n",
        "drive.mount('/content/drive')"
      ],
      "metadata": {
        "colab": {
          "base_uri": "https://localhost:8080/"
        },
        "id": "ez4DeVmqC3PT",
        "outputId": "a6ce89c7-e7d6-42cb-9cee-48ef67ac4f0d"
      },
      "execution_count": null,
      "outputs": [
        {
          "output_type": "stream",
          "name": "stdout",
          "text": [
            "Mounted at /content/drive\n"
          ]
        }
      ]
    },
    {
      "cell_type": "code",
      "source": [
        "!tar -xf \"/content/drive/MyDrive/UTKFace.tar.gz\""
      ],
      "metadata": {
        "id": "_ykydM--GvuY"
      },
      "execution_count": null,
      "outputs": []
    },
    {
      "cell_type": "code",
      "source": [
        "import tensorflow as tf\n",
        "from tensorflow.keras import layers\n",
        "from sklearn.model_selection import train_test_split\n",
        "\n",
        "# Set path to UTKFace dataset\n",
        "data_path = '/content/UTKFace'\n",
        "\n",
        "# Load the list of filenames\n",
        "filenames = os.listdir(data_path)\n",
        "\n",
        "# Split the filenames into training and validation sets\n",
        "train_filenames, val_filenames = train_test_split(filenames, test_size=0.2, random_state=42)\n",
        "\n",
        "# Define function to load and preprocess images\n",
        "def load_image(filename):\n",
        "    if (len(filename.split('_')) == 4):\n",
        "        age, _, _, _ = filename.split('_')\n",
        "    else:\n",
        "        age, _, _ = filename.split('_')\n",
        "    img = cv2.imread(os.path.join(data_path, filename))\n",
        "    img = cv2.cvtColor(img, cv2.COLOR_BGR2RGB)\n",
        "    img = cv2.resize(img, (224, 224))\n",
        "    img = img.astype(np.float32) / 255.0\n",
        "    age_label = int(age)\n",
        "    return img, age_label\n",
        "\n",
        "\n",
        "\n",
        "def data_generator(filenames, batch_size):\n",
        "    while True:\n",
        "        np.random.shuffle(filenames)\n",
        "        for i in range(0, len(filenames), batch_size):\n",
        "            batch_filenames = filenames[i:i+batch_size]\n",
        "            batch_images = []\n",
        "            batch_age_labels = []\n",
        "            for filename in batch_filenames:\n",
        "                if filename.endswith('.jpg'):\n",
        "                    img, age_label = load_image(filename)\n",
        "                    batch_images.append(img)\n",
        "                    batch_age_labels.append(age_label)\n",
        "            batch_images = np.array(batch_images)\n",
        "            batch_age_labels = np.array(batch_age_labels)\n",
        "            yield batch_images, batch_age_labels\n",
        "\n",
        "# Define the DL-DL v2 architecture\n",
        "def create_model():\n",
        "    model = tf.keras.Sequential()\n",
        "    \n",
        "    # Convolutional layers\n",
        "    model.add(layers.Conv2D(32, (3, 3), activation='relu', input_shape=(224, 224, 3)))\n",
        "    model.add(layers.MaxPooling2D((2, 2)))\n",
        "    model.add(layers.Conv2D(64, (3, 3), activation='relu'))\n",
        "    model.add(layers.MaxPooling2D((2, 2)))\n",
        "    model.add(layers.Conv2D(128, (3, 3), activation='relu'))\n",
        "    model.add(layers.MaxPooling2D((2, 2)))\n",
        "    model.add(layers.Conv2D(128, (3, 3), activation='relu'))\n",
        "    model.add(layers.MaxPooling2D((2, 2)))\n",
        "    model.add(layers.Flatten())\n",
        "    \n",
        "    # Dense layers\n",
        "    model.add(layers.Dense(256, activation='relu'))\n",
        "    model.add(layers.Dense(128, activation='relu'))\n",
        "    model.add(layers.Dense(1, activation='linear'))  # Output layer for age prediction\n",
        "    \n",
        "    return model\n",
        "\n",
        "# Create an instance of the DL-DL v2 model\n",
        "model = create_model()\n",
        "\n",
        "# Compile the model\n",
        "model.compile(optimizer='adam', loss='mean_squared_error', metrics=['mae'])\n",
        "\n",
        "# Print the model summary\n",
        "model.summary()"
      ],
      "metadata": {
        "colab": {
          "base_uri": "https://localhost:8080/"
        },
        "id": "QSdSTh-6G7a4",
        "outputId": "6cfa3abf-7aba-403f-e873-788ea7991a2c"
      },
      "execution_count": null,
      "outputs": [
        {
          "output_type": "stream",
          "name": "stdout",
          "text": [
            "Model: \"sequential_1\"\n",
            "_________________________________________________________________\n",
            " Layer (type)                Output Shape              Param #   \n",
            "=================================================================\n",
            " conv2d_4 (Conv2D)           (None, 222, 222, 32)      896       \n",
            "                                                                 \n",
            " max_pooling2d_4 (MaxPooling  (None, 111, 111, 32)     0         \n",
            " 2D)                                                             \n",
            "                                                                 \n",
            " conv2d_5 (Conv2D)           (None, 109, 109, 64)      18496     \n",
            "                                                                 \n",
            " max_pooling2d_5 (MaxPooling  (None, 54, 54, 64)       0         \n",
            " 2D)                                                             \n",
            "                                                                 \n",
            " conv2d_6 (Conv2D)           (None, 52, 52, 128)       73856     \n",
            "                                                                 \n",
            " max_pooling2d_6 (MaxPooling  (None, 26, 26, 128)      0         \n",
            " 2D)                                                             \n",
            "                                                                 \n",
            " conv2d_7 (Conv2D)           (None, 24, 24, 128)       147584    \n",
            "                                                                 \n",
            " max_pooling2d_7 (MaxPooling  (None, 12, 12, 128)      0         \n",
            " 2D)                                                             \n",
            "                                                                 \n",
            " flatten_1 (Flatten)         (None, 18432)             0         \n",
            "                                                                 \n",
            " dense_3 (Dense)             (None, 256)               4718848   \n",
            "                                                                 \n",
            " dense_4 (Dense)             (None, 128)               32896     \n",
            "                                                                 \n",
            " dense_5 (Dense)             (None, 1)                 129       \n",
            "                                                                 \n",
            "=================================================================\n",
            "Total params: 4,992,705\n",
            "Trainable params: 4,992,705\n",
            "Non-trainable params: 0\n",
            "_________________________________________________________________\n"
          ]
        }
      ]
    },
    {
      "cell_type": "code",
      "source": [
        "# Define batch size and number of epochs\n",
        "batch_size = 128\n",
        "epochs = 30\n",
        "\n",
        "# Create data generators for training and validation\n",
        "train_data_gen = data_generator(train_filenames, batch_size)\n",
        "val_data_gen = data_generator(val_filenames, batch_size)\n",
        "\n",
        "# Train the model\n",
        "model.fit(train_data_gen, steps_per_epoch=len(train_filenames) // batch_size, epochs=epochs, validation_data=val_data_gen, validation_steps=len(val_filenames) // batch_size)\n"
      ],
      "metadata": {
        "colab": {
          "base_uri": "https://localhost:8080/"
        },
        "id": "5CZRcTTHJ_LE",
        "outputId": "c2bed5a8-a824-4e6e-cbf2-2ee07c50777c"
      },
      "execution_count": null,
      "outputs": [
        {
          "output_type": "stream",
          "name": "stdout",
          "text": [
            "Epoch 1/30\n",
            "148/148 [==============================] - 53s 340ms/step - loss: 477.2075 - mae: 16.7312 - val_loss: 400.0147 - val_mae: 15.1125\n",
            "Epoch 2/30\n",
            "148/148 [==============================] - 52s 344ms/step - loss: 357.7274 - mae: 14.5141 - val_loss: 290.1898 - val_mae: 12.9429\n",
            "Epoch 3/30\n",
            "148/148 [==============================] - 50s 337ms/step - loss: 245.6171 - mae: 11.9283 - val_loss: 191.2365 - val_mae: 10.3110\n",
            "Epoch 4/30\n",
            "148/148 [==============================] - 50s 337ms/step - loss: 176.6232 - mae: 9.8126 - val_loss: 146.1669 - val_mae: 8.9193\n",
            "Epoch 5/30\n",
            "148/148 [==============================] - 50s 338ms/step - loss: 141.8301 - mae: 8.6579 - val_loss: 122.0235 - val_mae: 8.0465\n",
            "Epoch 6/30\n",
            "148/148 [==============================] - 49s 330ms/step - loss: 118.5586 - mae: 7.9361 - val_loss: 137.6538 - val_mae: 8.2398\n",
            "Epoch 7/30\n",
            "148/148 [==============================] - 48s 326ms/step - loss: 100.4036 - mae: 7.2688 - val_loss: 98.5493 - val_mae: 7.3137\n",
            "Epoch 8/30\n",
            "148/148 [==============================] - 49s 330ms/step - loss: 87.7865 - mae: 6.8115 - val_loss: 92.3495 - val_mae: 6.8704\n",
            "Epoch 9/30\n",
            "148/148 [==============================] - 50s 338ms/step - loss: 80.7692 - mae: 6.5034 - val_loss: 90.0489 - val_mae: 6.9097\n",
            "Epoch 10/30\n",
            "148/148 [==============================] - 49s 334ms/step - loss: 71.1187 - mae: 6.1470 - val_loss: 85.0916 - val_mae: 6.5718\n",
            "Epoch 11/30\n",
            "148/148 [==============================] - 50s 337ms/step - loss: 66.4986 - mae: 5.9533 - val_loss: 97.9946 - val_mae: 6.9187\n",
            "Epoch 12/30\n",
            "148/148 [==============================] - 50s 339ms/step - loss: 60.4552 - mae: 5.6615 - val_loss: 81.6368 - val_mae: 6.4826\n",
            "Epoch 13/30\n",
            "148/148 [==============================] - 48s 324ms/step - loss: 54.4735 - mae: 5.3968 - val_loss: 79.3198 - val_mae: 6.2088\n",
            "Epoch 14/30\n",
            "148/148 [==============================] - 49s 334ms/step - loss: 54.6658 - mae: 5.4046 - val_loss: 94.3350 - val_mae: 7.0134\n",
            "Epoch 15/30\n",
            "148/148 [==============================] - 50s 338ms/step - loss: 46.3231 - mae: 4.9607 - val_loss: 77.0960 - val_mae: 6.2156\n",
            "Epoch 16/30\n",
            "148/148 [==============================] - 48s 323ms/step - loss: 40.9271 - mae: 4.7044 - val_loss: 78.6967 - val_mae: 6.1936\n",
            "Epoch 17/30\n",
            "148/148 [==============================] - 50s 342ms/step - loss: 35.4089 - mae: 4.3620 - val_loss: 77.2144 - val_mae: 6.1604\n",
            "Epoch 18/30\n",
            "148/148 [==============================] - 51s 342ms/step - loss: 32.9921 - mae: 4.2255 - val_loss: 77.4574 - val_mae: 6.1616\n",
            "Epoch 19/30\n",
            "148/148 [==============================] - 51s 342ms/step - loss: 29.2484 - mae: 3.9933 - val_loss: 77.0676 - val_mae: 6.1845\n",
            "Epoch 20/30\n",
            "148/148 [==============================] - 51s 343ms/step - loss: 28.0965 - mae: 3.9134 - val_loss: 77.9573 - val_mae: 6.2017\n",
            "Epoch 21/30\n",
            "148/148 [==============================] - 51s 344ms/step - loss: 26.3390 - mae: 3.7859 - val_loss: 87.1539 - val_mae: 6.7674\n",
            "Epoch 22/30\n",
            "148/148 [==============================] - 51s 343ms/step - loss: 21.6206 - mae: 3.4352 - val_loss: 78.8904 - val_mae: 6.2117\n",
            "Epoch 23/30\n",
            "148/148 [==============================] - 48s 325ms/step - loss: 19.5556 - mae: 3.2631 - val_loss: 79.0191 - val_mae: 6.2241\n",
            "Epoch 24/30\n",
            "148/148 [==============================] - 50s 335ms/step - loss: 16.9208 - mae: 3.0329 - val_loss: 79.0210 - val_mae: 6.2187\n",
            "Epoch 25/30\n",
            "148/148 [==============================] - 52s 354ms/step - loss: 14.6759 - mae: 2.8139 - val_loss: 80.4967 - val_mae: 6.3644\n",
            "Epoch 26/30\n",
            "148/148 [==============================] - 50s 341ms/step - loss: 13.2216 - mae: 2.6870 - val_loss: 81.2625 - val_mae: 6.2800\n",
            "Epoch 27/30\n",
            "148/148 [==============================] - 49s 333ms/step - loss: 12.2042 - mae: 2.5583 - val_loss: 83.5558 - val_mae: 6.3741\n",
            "Epoch 28/30\n",
            "148/148 [==============================] - 50s 338ms/step - loss: 10.5896 - mae: 2.3898 - val_loss: 82.5445 - val_mae: 6.3348\n",
            "Epoch 29/30\n",
            "148/148 [==============================] - 50s 337ms/step - loss: 9.5433 - mae: 2.2631 - val_loss: 80.6995 - val_mae: 6.3163\n",
            "Epoch 30/30\n",
            "148/148 [==============================] - 49s 335ms/step - loss: 10.4958 - mae: 2.3730 - val_loss: 83.2799 - val_mae: 6.3622\n"
          ]
        },
        {
          "output_type": "execute_result",
          "data": {
            "text/plain": [
              "<keras.callbacks.History at 0x7f09da4479a0>"
            ]
          },
          "metadata": {},
          "execution_count": 11
        }
      ]
    },
    {
      "cell_type": "code",
      "source": [
        "model.save('/content/age_model.h5')\n"
      ],
      "metadata": {
        "id": "KKAxeg5oTUsm"
      },
      "execution_count": null,
      "outputs": []
    },
    {
      "cell_type": "code",
      "source": [
        "!zip -r /content/age_model.zip /content/age_model"
      ],
      "metadata": {
        "colab": {
          "base_uri": "https://localhost:8080/"
        },
        "id": "ToC2v-20Taxl",
        "outputId": "ab5381b7-2026-4e9a-9658-88ff6add58e5"
      },
      "execution_count": null,
      "outputs": [
        {
          "output_type": "stream",
          "name": "stdout",
          "text": [
            "\tzip warning: name not matched: /content/age_model\n",
            "\n",
            "zip error: Nothing to do! (try: zip -r /content/age_model.zip . -i /content/age_model)\n"
          ]
        }
      ]
    },
    {
      "cell_type": "code",
      "source": [
        "# Evaluate the model on the validation set\n",
        "val_loss, val_mae = model.evaluate(val_data_gen, steps=len(val_filenames) // batch_size)\n",
        "print(\"Validation Loss:\", val_loss)\n",
        "print(\"Validation MAE:\", val_mae)\n"
      ],
      "metadata": {
        "colab": {
          "base_uri": "https://localhost:8080/"
        },
        "id": "xfwuQXNDNl5q",
        "outputId": "80659f94-e7f2-4972-a26f-2d848408f8ff"
      },
      "execution_count": null,
      "outputs": [
        {
          "output_type": "stream",
          "name": "stdout",
          "text": [
            "37/37 [==============================] - 9s 252ms/step - loss: 83.1928 - mae: 6.3576\n",
            "Validation Loss: 83.19278717041016\n",
            "Validation MAE: 6.3576340675354\n"
          ]
        }
      ]
    }
  ]
}